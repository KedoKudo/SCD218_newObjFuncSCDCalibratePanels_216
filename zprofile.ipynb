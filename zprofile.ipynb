{
 "cells": [
  {
   "cell_type": "markdown",
   "id": "grateful-sandwich",
   "metadata": {},
   "source": [
    "# Objective function for L1 calibration using SCDCalibratePanels\n",
    "$$err = \\dfrac{\\sum_n ||\\mathbf{q}^n_\\text{calc} - \\mathbf{q}^n_\\text{HKL}||^2}{N_\\text{peaks}}$$"
   ]
  },
  {
   "cell_type": "code",
   "execution_count": 1,
   "id": "continuing-bench",
   "metadata": {},
   "outputs": [],
   "source": [
    "%matplotlib widget\n",
    "\n",
    "import numpy as np\n",
    "import pandas as pd\n",
    "import matplotlib.pyplot as plt"
   ]
  },
  {
   "cell_type": "markdown",
   "id": "collectible-armenia",
   "metadata": {},
   "source": [
    "# Coarse Scan\n",
    "profile data is manually collected"
   ]
  },
  {
   "cell_type": "code",
   "execution_count": 2,
   "id": "according-scoop",
   "metadata": {},
   "outputs": [],
   "source": [
    "data = np.array([\n",
    "[-2.10000000000000000e+01, 0.04422040645454679],\n",
    "[-2.01000000000000014e+01, 0.00109543041610762],\n",
    "[-2.00100000000000016e+01, 0.00059440173617976],\n",
    "[-2.00010000000000012e+01, 0.00058586970776941],\n",
    "[-2.00000999999999998e+01, 0.00058543590087598],\n",
    "[-2.00000099999999996e+01, 0.00058539671785817],\n",
    "[-2.00000010000000010e+01, 0.00058539284153683],\n",
    "[-2.00000000000000000e+01, 0.00058539241130562],\n",
    "[-1.99999989999999990e+01, 0.00058539198116864],\n",
    "[-1.99999900000000004e+01, 0.00058538811417637],\n",
    "[-1.99999000000000002e+01, 0.00058534986406618],\n",
    "[-1.99989999999999988e+01, 0.00058500934793481],\n",
    "[-1.99899999999999984e+01, 0.00058580640121911],\n",
    "[-1.98999999999999986e+01, 0.00101774077591091],\n",
    "[-1.90000000000000000e+01, 0.05173972037107783],\n",
    "])\n",
    "\n",
    "dz = data[:,0] + 20\n",
    "err = np.log(data[:, 1])\n",
    "z_correct = -19.993204\n",
    "dz_sol = z_correct - (-20)"
   ]
  },
  {
   "cell_type": "code",
   "execution_count": 3,
   "id": "violent-spain",
   "metadata": {},
   "outputs": [
    {
     "data": {
      "application/vnd.jupyter.widget-view+json": {
       "model_id": "720513e584004d3b9271f94f78a01a8a",
       "version_major": 2,
       "version_minor": 0
      },
      "text/plain": [
       "Canvas(toolbar=Toolbar(toolitems=[('Home', 'Reset original view', 'home', 'home'), ('Back', 'Back to previous …"
      ]
     },
     "metadata": {},
     "output_type": "display_data"
    },
    {
     "data": {
      "text/plain": [
       "<matplotlib.legend.Legend at 0x7f4b254ec5e0>"
      ]
     },
     "execution_count": 3,
     "metadata": {},
     "output_type": "execute_result"
    }
   ],
   "source": [
    "fig, ax = plt.subplots(1,1)\n",
    "\n",
    "ax.plot(dz, err, 'b-+', label=\"err\")\n",
    "ax.plot([dz_sol,dz_sol], [min(err),max(err)], 'k--', label=\"z=-20\")\n",
    "\n",
    "ax.set_xscale(\"symlog\")\n",
    "ax.set_xlabel(\"$\\delta z (meters)$\")\n",
    "ax.set_yscale(\"linear\")\n",
    "ax.set_ylabel(\"err\");\n",
    "\n",
    "fig.legend()"
   ]
  },
  {
   "cell_type": "markdown",
   "id": "under-technology",
   "metadata": {},
   "source": [
    "# Fine scan"
   ]
  },
  {
   "cell_type": "code",
   "execution_count": 4,
   "id": "constant-peace",
   "metadata": {},
   "outputs": [],
   "source": [
    "df1 = pd.read_csv(\"data/prof_fine_03-01-2021.csv\", delimiter=\"\\t\")  # before changing the order of setting wavelength\n",
    "df2 = pd.read_csv(\"data/prof_fine_03-02-2021.csv\", delimiter=\"\\t\")  # changed the order of wavelength setting following suggestions from discussion"
   ]
  },
  {
   "cell_type": "code",
   "execution_count": 5,
   "id": "decimal-fleece",
   "metadata": {},
   "outputs": [
    {
     "data": {
      "text/html": [
       "<div>\n",
       "<style scoped>\n",
       "    .dataframe tbody tr th:only-of-type {\n",
       "        vertical-align: middle;\n",
       "    }\n",
       "\n",
       "    .dataframe tbody tr th {\n",
       "        vertical-align: top;\n",
       "    }\n",
       "\n",
       "    .dataframe thead th {\n",
       "        text-align: right;\n",
       "    }\n",
       "</style>\n",
       "<table border=\"1\" class=\"dataframe\">\n",
       "  <thead>\n",
       "    <tr style=\"text-align: right;\">\n",
       "      <th></th>\n",
       "      <th>dz</th>\n",
       "      <th>err</th>\n",
       "    </tr>\n",
       "  </thead>\n",
       "  <tbody>\n",
       "    <tr>\n",
       "      <th>count</th>\n",
       "      <td>2.000100e+04</td>\n",
       "      <td>20001.000000</td>\n",
       "    </tr>\n",
       "    <tr>\n",
       "      <th>mean</th>\n",
       "      <td>-8.941733e-16</td>\n",
       "      <td>0.000587</td>\n",
       "    </tr>\n",
       "    <tr>\n",
       "      <th>std</th>\n",
       "      <td>5.773936e-03</td>\n",
       "      <td>0.000003</td>\n",
       "    </tr>\n",
       "    <tr>\n",
       "      <th>min</th>\n",
       "      <td>-1.000000e-02</td>\n",
       "      <td>0.000584</td>\n",
       "    </tr>\n",
       "    <tr>\n",
       "      <th>25%</th>\n",
       "      <td>-5.000000e-03</td>\n",
       "      <td>0.000585</td>\n",
       "    </tr>\n",
       "    <tr>\n",
       "      <th>50%</th>\n",
       "      <td>-8.941784e-16</td>\n",
       "      <td>0.000586</td>\n",
       "    </tr>\n",
       "    <tr>\n",
       "      <th>75%</th>\n",
       "      <td>5.000000e-03</td>\n",
       "      <td>0.000589</td>\n",
       "    </tr>\n",
       "    <tr>\n",
       "      <th>max</th>\n",
       "      <td>1.000000e-02</td>\n",
       "      <td>0.000594</td>\n",
       "    </tr>\n",
       "  </tbody>\n",
       "</table>\n",
       "</div>"
      ],
      "text/plain": [
       "                 dz           err\n",
       "count  2.000100e+04  20001.000000\n",
       "mean  -8.941733e-16      0.000587\n",
       "std    5.773936e-03      0.000003\n",
       "min   -1.000000e-02      0.000584\n",
       "25%   -5.000000e-03      0.000585\n",
       "50%   -8.941784e-16      0.000586\n",
       "75%    5.000000e-03      0.000589\n",
       "max    1.000000e-02      0.000594"
      ]
     },
     "execution_count": 5,
     "metadata": {},
     "output_type": "execute_result"
    }
   ],
   "source": [
    "df1.describe()"
   ]
  },
  {
   "cell_type": "code",
   "execution_count": 6,
   "id": "sudden-synthesis",
   "metadata": {},
   "outputs": [
    {
     "data": {
      "text/html": [
       "<div>\n",
       "<style scoped>\n",
       "    .dataframe tbody tr th:only-of-type {\n",
       "        vertical-align: middle;\n",
       "    }\n",
       "\n",
       "    .dataframe tbody tr th {\n",
       "        vertical-align: top;\n",
       "    }\n",
       "\n",
       "    .dataframe thead th {\n",
       "        text-align: right;\n",
       "    }\n",
       "</style>\n",
       "<table border=\"1\" class=\"dataframe\">\n",
       "  <thead>\n",
       "    <tr style=\"text-align: right;\">\n",
       "      <th></th>\n",
       "      <th>dz</th>\n",
       "      <th>err</th>\n",
       "    </tr>\n",
       "  </thead>\n",
       "  <tbody>\n",
       "    <tr>\n",
       "      <th>count</th>\n",
       "      <td>2.000100e+04</td>\n",
       "      <td>20001.000000</td>\n",
       "    </tr>\n",
       "    <tr>\n",
       "      <th>mean</th>\n",
       "      <td>-8.941733e-16</td>\n",
       "      <td>0.000590</td>\n",
       "    </tr>\n",
       "    <tr>\n",
       "      <th>std</th>\n",
       "      <td>5.773936e-03</td>\n",
       "      <td>0.000005</td>\n",
       "    </tr>\n",
       "    <tr>\n",
       "      <th>min</th>\n",
       "      <td>-1.000000e-02</td>\n",
       "      <td>0.000584</td>\n",
       "    </tr>\n",
       "    <tr>\n",
       "      <th>25%</th>\n",
       "      <td>-5.000000e-03</td>\n",
       "      <td>0.000585</td>\n",
       "    </tr>\n",
       "    <tr>\n",
       "      <th>50%</th>\n",
       "      <td>-8.941784e-16</td>\n",
       "      <td>0.000588</td>\n",
       "    </tr>\n",
       "    <tr>\n",
       "      <th>75%</th>\n",
       "      <td>5.000000e-03</td>\n",
       "      <td>0.000594</td>\n",
       "    </tr>\n",
       "    <tr>\n",
       "      <th>max</th>\n",
       "      <td>1.000000e-02</td>\n",
       "      <td>0.000601</td>\n",
       "    </tr>\n",
       "  </tbody>\n",
       "</table>\n",
       "</div>"
      ],
      "text/plain": [
       "                 dz           err\n",
       "count  2.000100e+04  20001.000000\n",
       "mean  -8.941733e-16      0.000590\n",
       "std    5.773936e-03      0.000005\n",
       "min   -1.000000e-02      0.000584\n",
       "25%   -5.000000e-03      0.000585\n",
       "50%   -8.941784e-16      0.000588\n",
       "75%    5.000000e-03      0.000594\n",
       "max    1.000000e-02      0.000601"
      ]
     },
     "execution_count": 6,
     "metadata": {},
     "output_type": "execute_result"
    }
   ],
   "source": [
    "df2.describe()"
   ]
  },
  {
   "cell_type": "code",
   "execution_count": 7,
   "id": "alternate-glass",
   "metadata": {},
   "outputs": [],
   "source": [
    "z_correct = -19.993204\n",
    "dz_sol = z_correct - (-20)"
   ]
  },
  {
   "cell_type": "code",
   "execution_count": 8,
   "id": "dated-martin",
   "metadata": {},
   "outputs": [
    {
     "data": {
      "application/vnd.jupyter.widget-view+json": {
       "model_id": "1dcbafa4b90b43f7b6a74cd1626185ab",
       "version_major": 2,
       "version_minor": 0
      },
      "text/plain": [
       "Canvas(toolbar=Toolbar(toolitems=[('Home', 'Reset original view', 'home', 'home'), ('Back', 'Back to previous …"
      ]
     },
     "metadata": {},
     "output_type": "display_data"
    },
    {
     "name": "stdout",
     "output_type": "stream",
     "text": [
      "dz1_off = -0.0022340000000019705\n",
      "dz2_off = 0.0022329999999975685\n"
     ]
    }
   ],
   "source": [
    "fig, ax = plt.subplots(1,1,figsize=(10, 4))\n",
    "\n",
    "# solution\n",
    "ax.plot([dz_sol,dz_sol], [df1[\"err\"].min(),df1[\"err\"].max()], 'k--', label=f\"z={z_correct}\")\n",
    "\n",
    "# df1\n",
    "ax.plot(df1[\"dz\"], df1[\"err\"], 'b-', label=\"err1\")\n",
    "dz1_minerr = df1.loc[df1[\"err\"]==df1[\"err\"].min(), \"dz\"]\n",
    "ax.plot([dz1_minerr, dz1_minerr], [df1[\"err\"].min(),df1[\"err\"].max()], 'b:', label=f'dz1_minerr')\n",
    "\n",
    "# df2\n",
    "ax.plot(df2[\"dz\"], df2[\"err\"], 'r--', label=\"err2\")\n",
    "dz2_minerr = df2.loc[df2[\"err\"]==df2[\"err\"].min(), \"dz\"]\n",
    "ax.plot([dz2_minerr, dz2_minerr], [df2[\"err\"].min(),df2[\"err\"].max()], 'r:', label=f'dz2_minerr')\n",
    "\n",
    "ax.set_xlabel(\"$\\delta z (meters)$\")\n",
    "ax.set_yscale(\"linear\")\n",
    "ax.set_ylabel(\"err\");\n",
    "\n",
    "fig.legend()\n",
    "\n",
    "print(f\"dz1_off = {dz1_minerr.to_numpy()[0]-dz_sol}\");\n",
    "print(f\"dz2_off = {dz2_minerr.to_numpy()[0]-dz_sol}\");"
   ]
  },
  {
   "cell_type": "markdown",
   "id": "driven-difficulty",
   "metadata": {},
   "source": [
    "# Trying with a different z to see if we will have something different"
   ]
  },
  {
   "cell_type": "code",
   "execution_count": 14,
   "id": "restricted-sheriff",
   "metadata": {},
   "outputs": [],
   "source": [
    "z_correct_2 = -19.986409\n",
    "dz_correct_2 = z_correct_2 - (-20)"
   ]
  },
  {
   "cell_type": "code",
   "execution_count": 15,
   "id": "passive-bailey",
   "metadata": {},
   "outputs": [
    {
     "data": {
      "text/html": [
       "<div>\n",
       "<style scoped>\n",
       "    .dataframe tbody tr th:only-of-type {\n",
       "        vertical-align: middle;\n",
       "    }\n",
       "\n",
       "    .dataframe tbody tr th {\n",
       "        vertical-align: top;\n",
       "    }\n",
       "\n",
       "    .dataframe thead th {\n",
       "        text-align: right;\n",
       "    }\n",
       "</style>\n",
       "<table border=\"1\" class=\"dataframe\">\n",
       "  <thead>\n",
       "    <tr style=\"text-align: right;\">\n",
       "      <th></th>\n",
       "      <th>dz</th>\n",
       "      <th>err</th>\n",
       "    </tr>\n",
       "  </thead>\n",
       "  <tbody>\n",
       "    <tr>\n",
       "      <th>count</th>\n",
       "      <td>4.000100e+04</td>\n",
       "      <td>40001.000000</td>\n",
       "    </tr>\n",
       "    <tr>\n",
       "      <th>mean</th>\n",
       "      <td>-6.529724e-16</td>\n",
       "      <td>0.000603</td>\n",
       "    </tr>\n",
       "    <tr>\n",
       "      <th>std</th>\n",
       "      <td>1.154744e-02</td>\n",
       "      <td>0.000018</td>\n",
       "    </tr>\n",
       "    <tr>\n",
       "      <th>min</th>\n",
       "      <td>-2.000000e-02</td>\n",
       "      <td>0.000584</td>\n",
       "    </tr>\n",
       "    <tr>\n",
       "      <th>25%</th>\n",
       "      <td>-1.000000e-02</td>\n",
       "      <td>0.000586</td>\n",
       "    </tr>\n",
       "    <tr>\n",
       "      <th>50%</th>\n",
       "      <td>-6.530518e-16</td>\n",
       "      <td>0.000596</td>\n",
       "    </tr>\n",
       "    <tr>\n",
       "      <th>75%</th>\n",
       "      <td>1.000000e-02</td>\n",
       "      <td>0.000616</td>\n",
       "    </tr>\n",
       "    <tr>\n",
       "      <th>max</th>\n",
       "      <td>2.000000e-02</td>\n",
       "      <td>0.000645</td>\n",
       "    </tr>\n",
       "  </tbody>\n",
       "</table>\n",
       "</div>"
      ],
      "text/plain": [
       "                 dz           err\n",
       "count  4.000100e+04  40001.000000\n",
       "mean  -6.529724e-16      0.000603\n",
       "std    1.154744e-02      0.000018\n",
       "min   -2.000000e-02      0.000584\n",
       "25%   -1.000000e-02      0.000586\n",
       "50%   -6.530518e-16      0.000596\n",
       "75%    1.000000e-02      0.000616\n",
       "max    2.000000e-02      0.000645"
      ]
     },
     "execution_count": 15,
     "metadata": {},
     "output_type": "execute_result"
    }
   ],
   "source": [
    "df3 = pd.read_csv(\"data/prof_fine_03-02-2021_1.csv\", delimiter=\"\\t\")\n",
    "\n",
    "df3.describe()"
   ]
  },
  {
   "cell_type": "code",
   "execution_count": 18,
   "id": "divine-stress",
   "metadata": {},
   "outputs": [
    {
     "data": {
      "text/html": [
       "<div>\n",
       "<style scoped>\n",
       "    .dataframe tbody tr th:only-of-type {\n",
       "        vertical-align: middle;\n",
       "    }\n",
       "\n",
       "    .dataframe tbody tr th {\n",
       "        vertical-align: top;\n",
       "    }\n",
       "\n",
       "    .dataframe thead th {\n",
       "        text-align: right;\n",
       "    }\n",
       "</style>\n",
       "<table border=\"1\" class=\"dataframe\">\n",
       "  <thead>\n",
       "    <tr style=\"text-align: right;\">\n",
       "      <th></th>\n",
       "      <th>dz</th>\n",
       "      <th>err</th>\n",
       "    </tr>\n",
       "  </thead>\n",
       "  <tbody>\n",
       "    <tr>\n",
       "      <th>count</th>\n",
       "      <td>4.000100e+04</td>\n",
       "      <td>40001.000000</td>\n",
       "    </tr>\n",
       "    <tr>\n",
       "      <th>mean</th>\n",
       "      <td>-6.529724e-16</td>\n",
       "      <td>0.000597</td>\n",
       "    </tr>\n",
       "    <tr>\n",
       "      <th>std</th>\n",
       "      <td>1.154744e-02</td>\n",
       "      <td>0.000014</td>\n",
       "    </tr>\n",
       "    <tr>\n",
       "      <th>min</th>\n",
       "      <td>-2.000000e-02</td>\n",
       "      <td>0.000584</td>\n",
       "    </tr>\n",
       "    <tr>\n",
       "      <th>25%</th>\n",
       "      <td>-1.000000e-02</td>\n",
       "      <td>0.000586</td>\n",
       "    </tr>\n",
       "    <tr>\n",
       "      <th>50%</th>\n",
       "      <td>-6.530518e-16</td>\n",
       "      <td>0.000590</td>\n",
       "    </tr>\n",
       "    <tr>\n",
       "      <th>75%</th>\n",
       "      <td>1.000000e-02</td>\n",
       "      <td>0.000606</td>\n",
       "    </tr>\n",
       "    <tr>\n",
       "      <th>max</th>\n",
       "      <td>2.000000e-02</td>\n",
       "      <td>0.000631</td>\n",
       "    </tr>\n",
       "  </tbody>\n",
       "</table>\n",
       "</div>"
      ],
      "text/plain": [
       "                 dz           err\n",
       "count  4.000100e+04  40001.000000\n",
       "mean  -6.529724e-16      0.000597\n",
       "std    1.154744e-02      0.000014\n",
       "min   -2.000000e-02      0.000584\n",
       "25%   -1.000000e-02      0.000586\n",
       "50%   -6.530518e-16      0.000590\n",
       "75%    1.000000e-02      0.000606\n",
       "max    2.000000e-02      0.000631"
      ]
     },
     "execution_count": 18,
     "metadata": {},
     "output_type": "execute_result"
    }
   ],
   "source": [
    "df4 = pd.read_csv(\"data/prof_fine_03-02-2021_2.csv\", delimiter=\"\\t\")\n",
    "\n",
    "df4.describe()"
   ]
  },
  {
   "cell_type": "code",
   "execution_count": 19,
   "id": "requested-alexandria",
   "metadata": {},
   "outputs": [
    {
     "data": {
      "application/vnd.jupyter.widget-view+json": {
       "model_id": "0b8ae3aabd4a44a9a71a0a79d2a3cec2",
       "version_major": 2,
       "version_minor": 0
      },
      "text/plain": [
       "Canvas(toolbar=Toolbar(toolitems=[('Home', 'Reset original view', 'home', 'home'), ('Back', 'Back to previous …"
      ]
     },
     "metadata": {},
     "output_type": "display_data"
    },
    {
     "name": "stdout",
     "output_type": "stream",
     "text": [
      "dz3_off = 0.0022329999999928345\n",
      "dz4_off = -0.0022320000000042306\n"
     ]
    }
   ],
   "source": [
    "fig2, ax2 = plt.subplots(1,1,figsize=(10, 4))\n",
    "\n",
    "# solution\n",
    "ax2.plot([dz_correct_2,dz_correct_2], [df3[\"err\"].min(),df3[\"err\"].max()], 'k--', label=f\"z={z_correct_2}\")\n",
    "\n",
    "# df3\n",
    "ax2.plot(df3[\"dz\"], df3[\"err\"], 'g-', label=\"err1\")\n",
    "dz3_minerr = df3.loc[df3[\"err\"]==df3[\"err\"].min(), \"dz\"]\n",
    "ax2.plot([dz3_minerr, dz3_minerr], [df3[\"err\"].min(),df3[\"err\"].max()], 'g:', label=f'dz3_minerr')\n",
    "\n",
    "# df4\n",
    "ax2.plot(df4[\"dz\"], df4[\"err\"], 'm-', label=\"err1\")\n",
    "dz4_minerr = df4.loc[df4[\"err\"]==df4[\"err\"].min(), \"dz\"]\n",
    "ax2.plot([dz4_minerr, dz4_minerr], [df4[\"err\"].min(),df4[\"err\"].max()], 'm:', label=f'dz4_minerr')\n",
    "\n",
    "ax2.set_xlabel(\"$\\delta z (meters)$\")\n",
    "ax2.set_yscale(\"linear\")\n",
    "ax2.set_ylabel(\"err\");\n",
    "\n",
    "fig2.legend()\n",
    "\n",
    "print(f\"dz3_off = {dz3_minerr.to_numpy()[0]-dz_correct_2}\");\n",
    "print(f\"dz4_off = {dz4_minerr.to_numpy()[0]-dz_correct_2}\");"
   ]
  },
  {
   "cell_type": "code",
   "execution_count": 13,
   "id": "excess-convention",
   "metadata": {},
   "outputs": [
    {
     "data": {
      "text/plain": [
       "0.013591000000001685"
      ]
     },
     "execution_count": 13,
     "metadata": {},
     "output_type": "execute_result"
    }
   ],
   "source": [
    "dz_correct_2"
   ]
  },
  {
   "cell_type": "markdown",
   "id": "sunset-validation",
   "metadata": {},
   "source": [
    "# Use difference of two types of error to find the correct dz\n",
    "\n",
    "$$err = |err_\\text{overshoot} - err_\\text{undershoot}|$$"
   ]
  },
  {
   "cell_type": "code",
   "execution_count": 20,
   "id": "reserved-minutes",
   "metadata": {},
   "outputs": [
    {
     "data": {
      "text/html": [
       "<div>\n",
       "<style scoped>\n",
       "    .dataframe tbody tr th:only-of-type {\n",
       "        vertical-align: middle;\n",
       "    }\n",
       "\n",
       "    .dataframe tbody tr th {\n",
       "        vertical-align: top;\n",
       "    }\n",
       "\n",
       "    .dataframe thead th {\n",
       "        text-align: right;\n",
       "    }\n",
       "</style>\n",
       "<table border=\"1\" class=\"dataframe\">\n",
       "  <thead>\n",
       "    <tr style=\"text-align: right;\">\n",
       "      <th></th>\n",
       "      <th>dz</th>\n",
       "      <th>err</th>\n",
       "    </tr>\n",
       "  </thead>\n",
       "  <tbody>\n",
       "    <tr>\n",
       "      <th>count</th>\n",
       "      <td>4.000100e+04</td>\n",
       "      <td>4.000100e+04</td>\n",
       "    </tr>\n",
       "    <tr>\n",
       "      <th>mean</th>\n",
       "      <td>-6.529724e-16</td>\n",
       "      <td>5.098496e-06</td>\n",
       "    </tr>\n",
       "    <tr>\n",
       "      <th>std</th>\n",
       "      <td>1.154744e-02</td>\n",
       "      <td>3.554144e-06</td>\n",
       "    </tr>\n",
       "    <tr>\n",
       "      <th>min</th>\n",
       "      <td>-2.000000e-02</td>\n",
       "      <td>2.553650e-11</td>\n",
       "    </tr>\n",
       "    <tr>\n",
       "      <th>25%</th>\n",
       "      <td>-1.000000e-02</td>\n",
       "      <td>2.108644e-06</td>\n",
       "    </tr>\n",
       "    <tr>\n",
       "      <th>50%</th>\n",
       "      <td>-6.530518e-16</td>\n",
       "      <td>4.220227e-06</td>\n",
       "    </tr>\n",
       "    <tr>\n",
       "      <th>75%</th>\n",
       "      <td>1.000000e-02</td>\n",
       "      <td>8.061447e-06</td>\n",
       "    </tr>\n",
       "    <tr>\n",
       "      <th>max</th>\n",
       "      <td>2.000000e-02</td>\n",
       "      <td>1.234636e-05</td>\n",
       "    </tr>\n",
       "  </tbody>\n",
       "</table>\n",
       "</div>"
      ],
      "text/plain": [
       "                 dz           err\n",
       "count  4.000100e+04  4.000100e+04\n",
       "mean  -6.529724e-16  5.098496e-06\n",
       "std    1.154744e-02  3.554144e-06\n",
       "min   -2.000000e-02  2.553650e-11\n",
       "25%   -1.000000e-02  2.108644e-06\n",
       "50%   -6.530518e-16  4.220227e-06\n",
       "75%    1.000000e-02  8.061447e-06\n",
       "max    2.000000e-02  1.234636e-05"
      ]
     },
     "execution_count": 20,
     "metadata": {},
     "output_type": "execute_result"
    }
   ],
   "source": [
    "df_L1caliprof = pd.read_csv(\"data/prof_fine_L1cali_final.csv\", delimiter=\"\\t\")\n",
    "\n",
    "df_L1caliprof.describe()"
   ]
  },
  {
   "cell_type": "code",
   "execution_count": 21,
   "id": "composite-hampshire",
   "metadata": {},
   "outputs": [],
   "source": [
    "L1_correct = -19.990939\n",
    "dL1_correct = L1_correct - (-20)"
   ]
  },
  {
   "cell_type": "code",
   "execution_count": 24,
   "id": "respected-soldier",
   "metadata": {},
   "outputs": [
    {
     "data": {
      "application/vnd.jupyter.widget-view+json": {
       "model_id": "d9b132ad05964645b8674c132e6f11ec",
       "version_major": 2,
       "version_minor": 0
      },
      "text/plain": [
       "Canvas(toolbar=Toolbar(toolitems=[('Home', 'Reset original view', 'home', 'home'), ('Back', 'Back to previous …"
      ]
     },
     "metadata": {},
     "output_type": "display_data"
    },
    {
     "name": "stdout",
     "output_type": "stream",
     "text": [
      "dL1_off = 4.5102810375396984e-17\n"
     ]
    }
   ],
   "source": [
    "fig3, ax3 = plt.subplots(1,1,figsize=(10, 4))\n",
    "\n",
    "# solution\n",
    "ax3.plot([dL1_correct,dL1_correct], [df_L1caliprof[\"err\"].min(),df_L1caliprof[\"err\"].max()], 'k--', label=f\"z={L1_correct}\")\n",
    "\n",
    "# df3\n",
    "ax3.plot(df_L1caliprof[\"dz\"], df_L1caliprof[\"err\"], 'b-', label=\"err_L1\")\n",
    "dL1_minerr = df_L1caliprof.loc[df_L1caliprof[\"err\"]==df_L1caliprof[\"err\"].min(), \"dz\"]\n",
    "ax3.plot([dL1_minerr, dL1_minerr], [df_L1caliprof[\"err\"].min(),df_L1caliprof[\"err\"].max()], 'b:', label=f'dL1_minerr')\n",
    "\n",
    "ax3.set_xlabel(\"$\\delta z (meters)$\")\n",
    "ax3.set_yscale(\"linear\")\n",
    "ax3.set_ylabel(\"err\");\n",
    "\n",
    "fig3.legend()\n",
    "\n",
    "print(f\"dL1_off = {dL1_minerr.to_numpy()[0]-dL1_correct}\");"
   ]
  },
  {
   "cell_type": "markdown",
   "id": "delayed-sucking",
   "metadata": {},
   "source": [
    "# Profile of provided natrollite data"
   ]
  },
  {
   "cell_type": "code",
   "execution_count": 2,
   "id": "unavailable-enlargement",
   "metadata": {},
   "outputs": [
    {
     "data": {
      "text/html": [
       "<div>\n",
       "<style scoped>\n",
       "    .dataframe tbody tr th:only-of-type {\n",
       "        vertical-align: middle;\n",
       "    }\n",
       "\n",
       "    .dataframe tbody tr th {\n",
       "        vertical-align: top;\n",
       "    }\n",
       "\n",
       "    .dataframe thead th {\n",
       "        text-align: right;\n",
       "    }\n",
       "</style>\n",
       "<table border=\"1\" class=\"dataframe\">\n",
       "  <thead>\n",
       "    <tr style=\"text-align: right;\">\n",
       "      <th></th>\n",
       "      <th>dz</th>\n",
       "      <th>err</th>\n",
       "    </tr>\n",
       "  </thead>\n",
       "  <tbody>\n",
       "    <tr>\n",
       "      <th>count</th>\n",
       "      <td>10000.000000</td>\n",
       "      <td>10000.000000</td>\n",
       "    </tr>\n",
       "    <tr>\n",
       "      <th>mean</th>\n",
       "      <td>-0.000005</td>\n",
       "      <td>0.000535</td>\n",
       "    </tr>\n",
       "    <tr>\n",
       "      <th>std</th>\n",
       "      <td>0.028869</td>\n",
       "      <td>0.000309</td>\n",
       "    </tr>\n",
       "    <tr>\n",
       "      <th>min</th>\n",
       "      <td>-0.050000</td>\n",
       "      <td>0.000000</td>\n",
       "    </tr>\n",
       "    <tr>\n",
       "      <th>25%</th>\n",
       "      <td>-0.025002</td>\n",
       "      <td>0.000268</td>\n",
       "    </tr>\n",
       "    <tr>\n",
       "      <th>50%</th>\n",
       "      <td>-0.000005</td>\n",
       "      <td>0.000536</td>\n",
       "    </tr>\n",
       "    <tr>\n",
       "      <th>75%</th>\n",
       "      <td>0.024993</td>\n",
       "      <td>0.000803</td>\n",
       "    </tr>\n",
       "    <tr>\n",
       "      <th>max</th>\n",
       "      <td>0.049990</td>\n",
       "      <td>0.001070</td>\n",
       "    </tr>\n",
       "  </tbody>\n",
       "</table>\n",
       "</div>"
      ],
      "text/plain": [
       "                 dz           err\n",
       "count  10000.000000  10000.000000\n",
       "mean      -0.000005      0.000535\n",
       "std        0.028869      0.000309\n",
       "min       -0.050000      0.000000\n",
       "25%       -0.025002      0.000268\n",
       "50%       -0.000005      0.000536\n",
       "75%        0.024993      0.000803\n",
       "max        0.049990      0.001070"
      ]
     },
     "execution_count": 2,
     "metadata": {},
     "output_type": "execute_result"
    }
   ],
   "source": [
    "df_natrollite = pd.read_csv(\"data/prof_natrollite.csv\", delimiter=\"\\t\")\n",
    "\n",
    "df_natrollite.describe()"
   ]
  },
  {
   "cell_type": "code",
   "execution_count": 3,
   "id": "numerous-desire",
   "metadata": {},
   "outputs": [
    {
     "data": {
      "application/vnd.jupyter.widget-view+json": {
       "model_id": "81eca342c6834c90af418becfcfe5430",
       "version_major": 2,
       "version_minor": 0
      },
      "text/plain": [
       "Canvas(toolbar=Toolbar(toolitems=[('Home', 'Reset original view', 'home', 'home'), ('Back', 'Back to previous …"
      ]
     },
     "metadata": {},
     "output_type": "display_data"
    },
    {
     "name": "stdout",
     "output_type": "stream",
     "text": [
      "5000    4.630604e-15\n",
      "Name: dz, dtype: float64\n"
     ]
    }
   ],
   "source": [
    "fig_na, ax_na = plt.subplots(1,1,figsize=(10, 4))\n",
    "\n",
    "ax_na.plot(df_natrollite[\"dz\"], df_natrollite[\"err\"], 'b-', label=\"err_L1\")\n",
    "dL1_minerr = df_natrollite.loc[df_natrollite[\"err\"]==df_natrollite[\"err\"].min(), \"dz\"]\n",
    "ax_na.plot([dL1_minerr, dL1_minerr], [df_natrollite[\"err\"].min(),df_natrollite[\"err\"].max()], 'b:', label=f'dL1_minerr')\n",
    "\n",
    "print(dL1_minerr)"
   ]
  },
  {
   "cell_type": "code",
   "execution_count": null,
   "id": "logical-cooler",
   "metadata": {},
   "outputs": [],
   "source": []
  }
 ],
 "metadata": {
  "kernelspec": {
   "display_name": "Python 3.8.5 64-bit ('dev': conda)",
   "language": "python",
   "name": "python38564bitdevcondaa8a884aa4fb1402b9083074dea6dee70"
  },
  "language_info": {
   "codemirror_mode": {
    "name": "ipython",
    "version": 3
   },
   "file_extension": ".py",
   "mimetype": "text/x-python",
   "name": "python",
   "nbconvert_exporter": "python",
   "pygments_lexer": "ipython3",
   "version": "3.8.8"
  }
 },
 "nbformat": 4,
 "nbformat_minor": 5
}
